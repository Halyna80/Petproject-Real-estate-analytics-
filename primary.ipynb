{
 "cells": [
  {
   "cell_type": "code",
   "execution_count": 48,
   "id": "91ea9fee",
   "metadata": {},
   "outputs": [],
   "source": [
    "# Імпортування бібліотеки\n",
    "import pandas as pd"
   ]
  },
  {
   "cell_type": "code",
   "execution_count": 52,
   "id": "a3f95a8f",
   "metadata": {},
   "outputs": [
    {
     "name": "stdout",
     "output_type": "stream",
     "text": [
      "           city_name  average_price_per_square_meter  Unnamed: 2\n",
      "0               Київ                            1280         NaN\n",
      "1              Львів                            1310         NaN\n",
      "2              Одеса                             960         NaN\n",
      "3            Вінниця                            1080         NaN\n",
      "4             Дніпро                            1040         NaN\n",
      "5            Житомир                             780         NaN\n",
      "6            Ужгород                            1100         NaN\n",
      "7          Запоріжжя                             890         NaN\n",
      "8   Івано-Франківськ                             790         NaN\n",
      "9      Кропивницький                            1080         NaN\n",
      "10          Миколаєв                             710         NaN\n",
      "11           Полтава                             800         NaN\n",
      "12             Рівне                             830         NaN\n",
      "13              Суми                             670         NaN\n",
      "14         Тернопіль                             700         NaN\n",
      "15            Харків                             750         NaN\n",
      "16      Хмельницький                             660         NaN\n",
      "17           Черкаси                             710         NaN\n",
      "18             Луцьк                             830         NaN\n",
      "19          Чернігів                             750         NaN\n",
      "20          Чернівці                             950         NaN\n"
     ]
    }
   ],
   "source": [
    "# імпортування даних в датафрейм\n",
    "primary = pd.read_csv('apartment_primary_city.csv', delimiter=';', encoding='cp1251')\n",
    "print(primary)\n"
   ]
  },
  {
   "cell_type": "code",
   "execution_count": 53,
   "id": "ed117313",
   "metadata": {},
   "outputs": [
    {
     "name": "stdout",
     "output_type": "stream",
     "text": [
      "           city_name  average_price_per_square_meter\n",
      "0               Київ                            1280\n",
      "1              Львів                            1310\n",
      "2              Одеса                             960\n",
      "3            Вінниця                            1080\n",
      "4             Дніпро                            1040\n",
      "5            Житомир                             780\n",
      "6            Ужгород                            1100\n",
      "7          Запоріжжя                             890\n",
      "8   Івано-Франківськ                             790\n",
      "9      Кропивницький                            1080\n",
      "10          Миколаєв                             710\n",
      "11           Полтава                             800\n",
      "12             Рівне                             830\n",
      "13              Суми                             670\n",
      "14         Тернопіль                             700\n",
      "15            Харків                             750\n",
      "16      Хмельницький                             660\n",
      "17           Черкаси                             710\n",
      "18             Луцьк                             830\n",
      "19          Чернігів                             750\n",
      "20          Чернівці                             950\n"
     ]
    }
   ],
   "source": [
    "# очищеня від пустих колонок\n",
    "primary.drop(columns=['Unnamed: 2'], inplace=True)\n",
    "print(primary)"
   ]
  },
  {
   "cell_type": "code",
   "execution_count": 58,
   "id": "80cf3e40",
   "metadata": {},
   "outputs": [
    {
     "data": {
      "image/png": "[encoded data removed]",
      "text/plain": [
       "<Figure size 1000x600 with 1 Axes>"
      ]
     },
     "metadata": {},
     "output_type": "display_data"
    }
   ],
   "source": [
    "import matplotlib.pyplot as plt\n",
    "import seaborn as sns\n",
    "\n",
    "# Коробкова діаграма (Box Plot)\n",
    "plt.figure(figsize=(10, 6))\n",
    "sns.boxplot(x='average_price_per_square_meter', data=primary, color='#E2007A')\n",
    "plt.title('Середня вартість кв м по містам України', fontsize=15)\n",
    "plt.xlabel('Ціна за кв м', fontsize=12)\n",
    "plt.ylabel('Міста', fontsize=12)\n",
    "plt.savefig('boxplot_primary.png')\n",
    "plt.show()\n"
   ]
  },
  {
   "cell_type": "code",
   "execution_count": 56,
   "id": "7ad4c661",
   "metadata": {},
   "outputs": [
    {
     "data": {
      "text/html": [
       "<div>\n",
       "<style scoped>\n",
       "    .dataframe tbody tr th:only-of-type {\n",
       "        vertical-align: middle;\n",
       "    }\n",
       "\n",
       "    .dataframe tbody tr th {\n",
       "        vertical-align: top;\n",
       "    }\n",
       "\n",
       "    .dataframe thead th {\n",
       "        text-align: right;\n",
       "    }\n",
       "</style>\n",
       "<table border=\"1\" class=\"dataframe\">\n",
       "  <thead>\n",
       "    <tr style=\"text-align: right;\">\n",
       "      <th></th>\n",
       "      <th>average_price_per_square_meter</th>\n",
       "    </tr>\n",
       "  </thead>\n",
       "  <tbody>\n",
       "    <tr>\n",
       "      <th>count</th>\n",
       "      <td>21.000000</td>\n",
       "    </tr>\n",
       "    <tr>\n",
       "      <th>mean</th>\n",
       "      <td>889.047619</td>\n",
       "    </tr>\n",
       "    <tr>\n",
       "      <th>std</th>\n",
       "      <td>194.239665</td>\n",
       "    </tr>\n",
       "    <tr>\n",
       "      <th>min</th>\n",
       "      <td>660.000000</td>\n",
       "    </tr>\n",
       "    <tr>\n",
       "      <th>25%</th>\n",
       "      <td>750.000000</td>\n",
       "    </tr>\n",
       "    <tr>\n",
       "      <th>50%</th>\n",
       "      <td>830.000000</td>\n",
       "    </tr>\n",
       "    <tr>\n",
       "      <th>75%</th>\n",
       "      <td>1040.000000</td>\n",
       "    </tr>\n",
       "    <tr>\n",
       "      <th>max</th>\n",
       "      <td>1310.000000</td>\n",
       "    </tr>\n",
       "  </tbody>\n",
       "</table>\n",
       "</div>"
      ],
      "text/plain": [
       "       average_price_per_square_meter\n",
       "count                       21.000000\n",
       "mean                       889.047619\n",
       "std                        194.239665\n",
       "min                        660.000000\n",
       "25%                        750.000000\n",
       "50%                        830.000000\n",
       "75%                       1040.000000\n",
       "max                       1310.000000"
      ]
     },
     "execution_count": 56,
     "metadata": {},
     "output_type": "execute_result"
    }
   ],
   "source": [
    "#  отримання статистичної інформації\n",
    "primary.describe()\n"
   ]
  },
  {
   "cell_type": "code",
   "execution_count": null,
   "id": "86ac6a9a",
   "metadata": {},
   "outputs": [],
   "source": []
  }
 ],
 "metadata": {
  "kernelspec": {
   "display_name": "Python 3 (ipykernel)",
   "language": "python",
   "name": "python3"
  },
  "language_info": {
   "codemirror_mode": {
    "name": "ipython",
    "version": 3
   },
   "file_extension": ".py",
   "mimetype": "text/x-python",
   "name": "python",
   "nbconvert_exporter": "python",
   "pygments_lexer": "ipython3",
   "version": "3.11.5"
  }
 },
 "nbformat": 4,
 "nbformat_minor": 5
}
